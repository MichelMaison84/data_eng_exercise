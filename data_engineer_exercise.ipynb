{
 "cells": [
  {
   "cell_type": "markdown",
   "metadata": {},
   "source": [
    "# Evaluation criteria\n",
    "\n",
    "The goal of this assignment is to get a view on your hands-on \"data engineering\" skills.  \n",
    "At our company, our data scientists and engineers collaborate on projects.  \n",
    "Your main focus will be creating performant & robust data flows.  \n",
    "For a take-home-assignment, we cannot grant you access to our infrastructure.  \n",
    "The assignement below measures your proficiency in general programming, data science & engineering tasks using python.  \n",
    "Completion should not take more than half a day.\n",
    "\n",
    "**We expect you to be proficient in:**\n",
    " * SQL queries (Sybase IQ system)\n",
    " * ETL flows (In collaboration with existing teams)\n",
    " * General python to glue it all together\n",
    " * Python data science ecosystem (Pandas + SKlearn)\n",
    " \n",
    "**In this exercise we expect you to demonstrate your ability to / knowledge of:**\n",
    " * Building a data science runtime\n",
    " * PEP8 / Google python styleguide\n",
    " * Efficiently getting the job done\n",
    " * Choose meaningfull names for variables & functions\n",
    " * Writing maintainable code (yes, you might need to document some steps)\n",
    " * Help a data scientist present interactive results.\n",
    " * Offer predictions via REST api"
   ]
  },
  {
   "cell_type": "markdown",
   "metadata": {},
   "source": [
    "# Setting-up a data science workspace\n",
    "\n",
    "We allow you full freedom in setting up a data science runtime.  \n",
    "The main objective is having a runtime where you can run this notebook and the code you will develop.  \n",
    "You can choose for a local setup on your pc, or even a cloud setup if you're up for it.   \n",
    "\n",
    "**In your environment, you will need things for:**\n",
    " * https request\n",
    " * python3 (not python2 !!)\n",
    " * (geo)pandas\n",
    " * interactive maps (e.g. folium, altair, ...)\n",
    " * REST apis\n",
    " \n",
    "**Deliverables we expect**:\n",
    " * notebook with the completed assignment\n",
    " * list of packages for your runtime (e.g. yml or txt file)\n",
    " * evidence of a working API endpoint"
   ]
  },
  {
   "cell_type": "markdown",
   "metadata": {},
   "source": [
    "# Importing packages"
   ]
  },
  {
   "cell_type": "markdown",
   "metadata": {},
   "source": [
    "We would like you to put all your import statements here, together in 1 place.  \n",
    "Before submitting, please make sure you remove any unused imports :-)  "
   ]
  },
  {
   "cell_type": "code",
   "execution_count": null,
   "metadata": {},
   "outputs": [],
   "source": [
    "## Working with dataframes\n",
    "import pandas as pd\n",
    "\n",
    "## Requests is a package that is going to help us communicate between our browser and a web server somewhere that is storing data we are interested in.\n",
    "import requests\n",
    "\n",
    "## Needed for quality checks\n",
    "import unittest\n",
    "\n",
    "## NumPy is the fundamental package for scientific computing in Python (needed for astype function, ...)\n",
    "import numpy as np\n",
    "\n",
    "## Joblib is necessary to load an object from disk (eg. Trained model in our case)\n",
    "import joblib\n",
    "\n",
    "## Normalizing json stuff\n",
    "import json\n",
    "\n",
    "## Map functions\n",
    "import folium \n",
    "\n",
    "## Mathematic functions\n",
    "from math import radians, cos, sin, asin, sqrt\n",
    "\n",
    "## Geographic dataframe\n",
    "import geopandas as gpd\n",
    "\n",
    "## To download shape file\n",
    "import urllib\n",
    "import zipfile\n",
    "\n",
    "\n",
    "\n",
    "\n"
   ]
  },
  {
   "cell_type": "markdown",
   "metadata": {},
   "source": [
    "# Data ingestion exercises\n",
    "\n",
    "## Getting store location data from an API"
   ]
  },
  {
   "cell_type": "markdown",
   "metadata": {},
   "source": [
    "**Goal:** Obtain a pandas dataframe  \n",
    "**Hint:** You will need to normalise/flatten the json, because it contains multiple levels  \n",
    "**API call:** https://ecgplacesmw.colruytgroup.com/ecgplacesmw/v3/nl/places/filter/clp-places  "
   ]
  },
  {
   "cell_type": "code",
   "execution_count": null,
   "metadata": {},
   "outputs": [],
   "source": [
    "## Below function retrieves a list from an API (JSON format) and converts it to a normalized pandas dataframe\n",
    "def get_clp_places(url: str):\n",
    "    shops = requests.get(url)\n",
    "    return pd.json_normalize(shops.json())\n",
    "\n",
    "## Testing the funtion with a list of CLP shops\n",
    "df_clp = get_clp_places(\"https://ecgplacesmw.colruytgroup.com/ecgplacesmw/v3/nl/places/filter/clp-places\")\n",
    "df_clp.head(10)"
   ]
  },
  {
   "cell_type": "markdown",
   "metadata": {},
   "source": [
    "### Quality checks\n",
    "\n",
    "We would like you to add several checks on this data based on these constraints:  \n",
    " * records > 200\n",
    " * latitude between 49 and 52\n",
    " * longitude between 2 and 7\n",
    " \n",
    "We dont want you to create a full blown test suite here, we're just gonna use 'asserts' from unittest"
   ]
  },
  {
   "cell_type": "code",
   "execution_count": null,
   "metadata": {},
   "outputs": [],
   "source": [
    "## Quality checks\n",
    "qc = unittest.TestCase('__init__')\n",
    "\n",
    "# The shape functions returns the number of records in our dataframe\n",
    "qc.assertTrue(df_clp.shape[0] -200 > 0, \"Dataframe must contain over 200 records\")\n",
    "qc.assertTrue(df_clp['geoCoordinates.latitude'].between(49,52).all(), \"Latitude is not between 49 and 52\")\n",
    "qc.assertTrue(df_clp['geoCoordinates.longitude'].between(2,7).all(), \"Longitude is not between 2 and 7\")"
   ]
  },
  {
   "cell_type": "markdown",
   "metadata": {},
   "source": [
    "### Feature creation\n",
    "\n",
    "Create a new column \"antwerpen\" which is 1 for all stores in Antwerpen (province) and 0 for all others "
   ]
  },
  {
   "cell_type": "code",
   "execution_count": null,
   "metadata": {},
   "outputs": [],
   "source": [
    "## Creating the new column\n",
    "## First astype converts the postalcode to an integer\n",
    "## Second astype converts TRUE to 1 and FALSE to 0\n",
    "df_clp[\"antwerpen\"]=(df_clp['address.postalcode']\n",
    "                     .astype(int)\n",
    "                     .between(2000,2999)\n",
    "                     .astype(int)\n",
    ")\n",
    "\n",
    "df_clp[\"antwerpen\"].value_counts()\n"
   ]
  },
  {
   "cell_type": "markdown",
   "metadata": {},
   "source": [
    "## Predict used car value\n",
    "\n",
    "A datascientist in our team made a basic model to predict car prices.  \n",
    "The model was saved to disk ('lgbr_cars.model') using joblib's dump fuctionality.  \n",
    "Documentation states the model is a LightGBM Regressor, trained using the sk-learn api.  \n",
    "\n",
    "**As engineer, your task it to expose this model as REST-api.** \n",
    "\n",
    "First, retrieve the model via the function below.  \n",
    "Change the path according to your setup.  "
   ]
  },
  {
   "cell_type": "code",
   "execution_count": null,
   "metadata": {},
   "outputs": [],
   "source": [
    "## Below function loads the trained model from disk (Stored with Joblib's dump functionality)\n",
    "def retrieve_model(path: str):\n",
    "    trained_model=joblib.load(path)\n",
    "    return trained_model\n",
    "\n",
    "## Loading the file from disk \n",
    "lgbr_cars = retrieve_model(\"./lgbr_cars.model\")"
   ]
  },
  {
   "cell_type": "markdown",
   "metadata": {},
   "source": [
    "Now you have your trained model, lets do a functional test based on the parameters below.  \n",
    "You have to present the parameters in this order.  \n",
    "\n",
    "* vehicleType: coupe\n",
    "* gearbox: manuell\n",
    "* powerPS: 190\n",
    "* model: NaN\n",
    "* kilometer: 125000\n",
    "* monthOfRegistration: 5 \n",
    "* fuelType: diesel\n",
    "* brand: audi\n",
    "\n",
    "Based on these parameters, you should get a predicted value of 14026.35068804\n",
    "However, the model doesnt accept string inputs, see the integer encoding below:"
   ]
  },
  {
   "cell_type": "code",
   "execution_count": null,
   "metadata": {},
   "outputs": [],
   "source": [
    "model_test_input = [[3,1,190,-1,125000,5,3,1]]"
   ]
  },
  {
   "cell_type": "code",
   "execution_count": null,
   "metadata": {},
   "outputs": [],
   "source": [
    "## Below function predicts user car value based on a trained model. Only returning first argument from the array of results\n",
    "def make_prediction(trained_model, single_input):\n",
    "    predicted_value=trained_model.predict(single_input)[0].round(8)\n",
    "    return predicted_value\n",
    "\n",
    "predicted_value = make_prediction(lgbr_cars, model_test_input)\n",
    "print(predicted_value)"
   ]
  },
  {
   "cell_type": "markdown",
   "metadata": {},
   "source": [
    "Now you got this model up and running, we want you to **expose it as a rest api.**  \n",
    "We don't expect you to set up any authentication.  \n",
    "We're not looking for beautiful inputs, just make it work.  \n",
    "**Building this endpoint should NOT be done in a notebook, but in proper .py file(s)**\n",
    "\n",
    "Once its up and running, use it to predict the following input:\n",
    "* [-1,1,0,118,150000,0,1,38] ==> prediction should be 13920.70\n"
   ]
  },
  {
   "cell_type": "code",
   "execution_count": null,
   "metadata": {},
   "outputs": [],
   "source": [
    "## First start the Rest API as stated below from a seperate Anaconda prompt\n",
    "## set FLASK_APP=rest_api\n",
    "## flask run\n",
    "\n",
    "## Testing the API\n",
    "input = [-1,1,0,118,150000,0,1,38]\n",
    "response = requests.get('http://127.0.0.1:5000/predict',data=json.dumps({'instance': input }))\n",
    "response.content"
   ]
  },
  {
   "cell_type": "markdown",
   "metadata": {},
   "source": [
    "## Geospatial data exercise\n",
    "The goal of this exercise is to read in some data from a shape file and visualize it on a map\n",
    "- The map should be dynamic. I want to zoom in and out to see more interesting aspects of the map\n",
    "- We want you to visualize the statistical sectors within a distance of 2KM of your home location.\n",
    "\n",
    "Specific steps to take:\n",
    "- Read in the shape file\n",
    "- Transform to WGS coordinates\n",
    "- Create a distance function (Haversine)\n",
    "- Create variables for home_lat, home_lon and perimeter_distance\n",
    "- Calculate centroid for each nis district\n",
    "- Calculate the distance to home for each nis district centroid \n",
    "- Figure out which nis districts are near your home\n",
    "- Create dynamic zoomable map\n",
    "- Visualize the nis districts near you (centroid <2km away), on the map\n"
   ]
  },
  {
   "cell_type": "code",
   "execution_count": null,
   "metadata": {},
   "outputs": [],
   "source": [
    "## part 1: Reading in the data\n",
    "## get this file from https://statbel.fgov.be/sites/default/files/files/opendata/Statistische%20sectoren/sh_statbel_statistical_sectors_20200101.shp.zip \n",
    "## The World Geodetic System (WGS) is a standard used in cartography, geodesy, and satellite navigation including GPS. \n",
    "\n",
    "## Download the file and unzip it\n",
    "url = \"https://statbel.fgov.be/sites/default/files/files/opendata/Statistische%20sectoren/sh_statbel_statistical_sectors_20200101.shp.zip\"\n",
    "extract_dir = \"shape\"\n",
    "\n",
    "zip_path, _ = urllib.request.urlretrieve(url)\n",
    "with zipfile.ZipFile(zip_path, \"r\") as f:\n",
    "    f.extractall(extract_dir)\n",
    "\n",
    "## Load the file in a geopandas dataframe \n",
    "df = gpd.read_file('shape/sh_statbel_statistical_sectors_20200101.shp')\n",
    "df = df.to_crs(epsg=4326) # change projection to wgs84 \n",
    "\n",
    "## Add columns with centroid lattitudes/longitudes\n",
    "df['centroid_lon'] = df.to_crs('+proj=cea').centroid.to_crs(df.crs).x\n",
    "df['centroid_lat'] = df.to_crs('+proj=cea').centroid.to_crs(df.crs).y\n",
    "\n",
    "## Verification\n",
    "print(df[['T_SEC_NL','centroid_lon','centroid_lat']].head(10))"
   ]
  },
  {
   "cell_type": "code",
   "execution_count": null,
   "metadata": {},
   "outputs": [],
   "source": [
    "## Let's create some variables to indicate the location of your interest  \n",
    "## My home location: Waterstraat 5 Wielsbeke\n",
    "home_lat = 50.91453631612504\n",
    "home_lon = 3.3705045538732263\n",
    "perimeter_distance = 2 # km"
   ]
  },
  {
   "cell_type": "code",
   "execution_count": null,
   "metadata": {},
   "outputs": [],
   "source": [
    "## Haversine formula - https://www.igismap.com/haversine-formula-calculate-geographic-distance-earth/\n",
    "def haversine(lat1, lon1, lat2, lon2):\n",
    "    R = 6372.8  # Earth radius in kilometers\n",
    "    \n",
    "    ## Convert latitude and longitude to radians\n",
    "    lat1 = radians(lat1)\n",
    "    lon1 = radians(lon1)\n",
    "    lat2 = radians(lat2)\n",
    "    lon2 = radians(lon2)\n",
    "    \n",
    "    ## Calculate differences between the two points\n",
    "    dlat = lat2 - lat1\n",
    "    dlon = lon2 - lon1\n",
    "    \n",
    "    ## Apply Haversine formula\n",
    "    a = sin(dlat/2)**2 + cos(lat1)*cos(lat2)*sin(dlon/2)**2\n",
    "    c = 2*asin(sqrt(a))\n",
    "    \n",
    "    ## Return distance in kilometers\n",
    "    return R*c\n"
   ]
  },
  {
   "cell_type": "markdown",
   "metadata": {},
   "source": [
    "Next, implement some sanity checks for your distance function "
   ]
  },
  {
   "cell_type": "code",
   "execution_count": null,
   "metadata": {},
   "outputs": [],
   "source": [
    "# implement sanity checks here\n",
    "qc_haversine = unittest.TestCase('__init__')\n",
    "\n",
    "# distance between the same point should be zero\n",
    "qc_haversine.assertEqual(haversine(home_lat, home_lon, home_lat, home_lon), 0)\n",
    "# distance between Berlin and Paris should be approximately 878 km\n",
    "qc_haversine.assertAlmostEqual(haversine(52.5200, 13.4050, 48.8566, 2.3522), 878, delta=10)\n",
    "# distance between New York and Los Angeles should be approximately 3945 km\n",
    "qc_haversine.assertAlmostEqual(haversine(40.7128, -74.0060, 34.0522, -118.2437), 3945, delta=50)\n",
    "\n"
   ]
  },
  {
   "cell_type": "markdown",
   "metadata": {},
   "source": [
    "Now, create a dynamical map "
   ]
  },
  {
   "cell_type": "code",
   "execution_count": null,
   "metadata": {},
   "outputs": [],
   "source": [
    "## First we calculate the distance to home for each nis district - we put this in a new column\n",
    "df['distance_to_home'] = (df[['centroid_lon', 'centroid_lat']]\n",
    "                                        .apply(lambda x: haversine(x['centroid_lat'],\n",
    "                                                                   x['centroid_lon'],\n",
    "                                                                   home_lat,\n",
    "                                                                   home_lon),\n",
    "                                        axis=1))\n",
    "## Verification\n",
    "print(df[['T_SEC_NL','distance_to_home']].head(10))"
   ]
  },
  {
   "cell_type": "code",
   "execution_count": null,
   "metadata": {
    "scrolled": true
   },
   "outputs": [],
   "source": [
    "## filter out places w. distance <2 km - Put this in a new dataframe\n",
    "df_close_to_home = df[df['distance_to_home'] < perimeter_distance]\n",
    "\n",
    "## Initialize a map on the location of my home town\n",
    "my_map = folium.Map(location=[home_lat,home_lon],zoom_start=13,tiles=\"Cartodb dark_matter\")\n",
    "\n",
    "## add my home location to the map\n",
    "folium.Circle(location=[home_lat, home_lon],\n",
    "              radius=15,\n",
    "              fill=True,\n",
    "              color='red',\n",
    "              popup='home location').add_to(my_map)\n",
    "\n",
    "## add nis districts nearby my home (perimeter of less then 2 km)\n",
    "df_close_to_home.apply(lambda x: folium.Marker(location=[x['centroid_lat'], x['centroid_lon']],\n",
    "                                                popup=x['T_SEC_NL'])\n",
    "                        .add_to(my_map), axis=1)\n",
    "\n",
    "\n",
    "\n",
    "## Show the map on the screen\n",
    "my_map\n"
   ]
  },
  {
   "cell_type": "code",
   "execution_count": null,
   "metadata": {},
   "outputs": [],
   "source": []
  }
 ],
 "metadata": {
  "kernelspec": {
   "display_name": "Python 3 (ipykernel)",
   "language": "python",
   "name": "python3"
  },
  "language_info": {
   "codemirror_mode": {
    "name": "ipython",
    "version": 3
   },
   "file_extension": ".py",
   "mimetype": "text/x-python",
   "name": "python",
   "nbconvert_exporter": "python",
   "pygments_lexer": "ipython3",
   "version": "3.9.13"
  },
  "vscode": {
   "interpreter": {
    "hash": "61cdb30cf3bfa35df422669fd328e712dfb9562678e8f48b9c2a73804f9bc296"
   }
  }
 },
 "nbformat": 4,
 "nbformat_minor": 4
}
